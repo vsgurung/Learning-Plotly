{
 "cells": [
  {
   "cell_type": "code",
   "execution_count": 2,
   "metadata": {
    "collapsed": true
   },
   "outputs": [],
   "source": [
    "import numpy as np\n",
    "import pandas as pd\n",
    "import matplotlib.pyplot as plt\n",
    "%matplotlib inline"
   ]
  },
  {
   "cell_type": "code",
   "execution_count": 3,
   "metadata": {},
   "outputs": [
    {
     "data": {
      "text/html": [
       "<div>\n",
       "<style>\n",
       "    .dataframe thead tr:only-child th {\n",
       "        text-align: right;\n",
       "    }\n",
       "\n",
       "    .dataframe thead th {\n",
       "        text-align: left;\n",
       "    }\n",
       "\n",
       "    .dataframe tbody tr th {\n",
       "        vertical-align: top;\n",
       "    }\n",
       "</style>\n",
       "<table border=\"1\" class=\"dataframe\">\n",
       "  <thead>\n",
       "    <tr style=\"text-align: right;\">\n",
       "      <th></th>\n",
       "      <th>Ward</th>\n",
       "      <th>NEET</th>\n",
       "      <th>LookedAfterChildren</th>\n",
       "      <th>DeprivationPercentage</th>\n",
       "      <th>PercentChildrenEnglishAdditionalLanguage</th>\n",
       "      <th>AgeGroup0to9</th>\n",
       "      <th>AgeGroup10to19</th>\n",
       "      <th>AgeGroup20to34</th>\n",
       "      <th>UsualResidentPopulation2015</th>\n",
       "      <th>FreeSchoolMealsPercentage</th>\n",
       "      <th>SecondarySchoolExclusionRates</th>\n",
       "      <th>PrimarySchoolExclusionRates</th>\n",
       "    </tr>\n",
       "  </thead>\n",
       "  <tbody>\n",
       "    <tr>\n",
       "      <th>0</th>\n",
       "      <td>Ascot</td>\n",
       "      <td>3.85</td>\n",
       "      <td>0.97</td>\n",
       "      <td>41.8</td>\n",
       "      <td>14.4</td>\n",
       "      <td>663</td>\n",
       "      <td>1038</td>\n",
       "      <td>756</td>\n",
       "      <td>5,855</td>\n",
       "      <td>3.7</td>\n",
       "      <td>0</td>\n",
       "      <td>0</td>\n",
       "    </tr>\n",
       "    <tr>\n",
       "      <th>1</th>\n",
       "      <td>Binfield with Warfield</td>\n",
       "      <td>2.56</td>\n",
       "      <td>5.83</td>\n",
       "      <td>36.5</td>\n",
       "      <td>9.5</td>\n",
       "      <td>1175</td>\n",
       "      <td>991</td>\n",
       "      <td>1562</td>\n",
       "      <td>9,057</td>\n",
       "      <td>4.7</td>\n",
       "      <td>0</td>\n",
       "      <td>7</td>\n",
       "    </tr>\n",
       "    <tr>\n",
       "      <th>2</th>\n",
       "      <td>Bullbrook</td>\n",
       "      <td>3.85</td>\n",
       "      <td>7.77</td>\n",
       "      <td>56.3</td>\n",
       "      <td>19.3</td>\n",
       "      <td>743</td>\n",
       "      <td>657</td>\n",
       "      <td>1343</td>\n",
       "      <td>6,359</td>\n",
       "      <td>9.4</td>\n",
       "      <td>0</td>\n",
       "      <td>0</td>\n",
       "    </tr>\n",
       "    <tr>\n",
       "      <th>3</th>\n",
       "      <td>Central Sandhurst</td>\n",
       "      <td>2.56</td>\n",
       "      <td>1.94</td>\n",
       "      <td>43.5</td>\n",
       "      <td>11.4</td>\n",
       "      <td>627</td>\n",
       "      <td>830</td>\n",
       "      <td>967</td>\n",
       "      <td>5,098</td>\n",
       "      <td>3.8</td>\n",
       "      <td>7</td>\n",
       "      <td>0</td>\n",
       "    </tr>\n",
       "    <tr>\n",
       "      <th>4</th>\n",
       "      <td>College Town</td>\n",
       "      <td>1.28</td>\n",
       "      <td>0.00</td>\n",
       "      <td>45.2</td>\n",
       "      <td>16.1</td>\n",
       "      <td>768</td>\n",
       "      <td>738</td>\n",
       "      <td>1823</td>\n",
       "      <td>6,296</td>\n",
       "      <td>4.3</td>\n",
       "      <td>0</td>\n",
       "      <td>0</td>\n",
       "    </tr>\n",
       "    <tr>\n",
       "      <th>5</th>\n",
       "      <td>Crown Wood</td>\n",
       "      <td>2.56</td>\n",
       "      <td>5.83</td>\n",
       "      <td>45.9</td>\n",
       "      <td>12.8</td>\n",
       "      <td>1002</td>\n",
       "      <td>787</td>\n",
       "      <td>2119</td>\n",
       "      <td>7,848</td>\n",
       "      <td>8.9</td>\n",
       "      <td>0</td>\n",
       "      <td>1</td>\n",
       "    </tr>\n",
       "    <tr>\n",
       "      <th>6</th>\n",
       "      <td>Crowthorne</td>\n",
       "      <td>5.13</td>\n",
       "      <td>2.91</td>\n",
       "      <td>44.2</td>\n",
       "      <td>6.4</td>\n",
       "      <td>575</td>\n",
       "      <td>651</td>\n",
       "      <td>798</td>\n",
       "      <td>5,365</td>\n",
       "      <td>5.6</td>\n",
       "      <td>6</td>\n",
       "      <td>0</td>\n",
       "    </tr>\n",
       "    <tr>\n",
       "      <th>7</th>\n",
       "      <td>Great Hollands North</td>\n",
       "      <td>12.82</td>\n",
       "      <td>8.74</td>\n",
       "      <td>50.8</td>\n",
       "      <td>12.4</td>\n",
       "      <td>967</td>\n",
       "      <td>705</td>\n",
       "      <td>1400</td>\n",
       "      <td>7,700</td>\n",
       "      <td>13.7</td>\n",
       "      <td>8</td>\n",
       "      <td>19</td>\n",
       "    </tr>\n",
       "    <tr>\n",
       "      <th>8</th>\n",
       "      <td>Great Hollands South</td>\n",
       "      <td>1.28</td>\n",
       "      <td>7.77</td>\n",
       "      <td>51.7</td>\n",
       "      <td>12.8</td>\n",
       "      <td>713</td>\n",
       "      <td>655</td>\n",
       "      <td>977</td>\n",
       "      <td>5,000</td>\n",
       "      <td>9.8</td>\n",
       "      <td>13</td>\n",
       "      <td>10</td>\n",
       "    </tr>\n",
       "    <tr>\n",
       "      <th>9</th>\n",
       "      <td>Hanworth</td>\n",
       "      <td>2.56</td>\n",
       "      <td>17.48</td>\n",
       "      <td>51.7</td>\n",
       "      <td>11.8</td>\n",
       "      <td>1033</td>\n",
       "      <td>882</td>\n",
       "      <td>1671</td>\n",
       "      <td>8,154</td>\n",
       "      <td>11.1</td>\n",
       "      <td>39</td>\n",
       "      <td>3</td>\n",
       "    </tr>\n",
       "    <tr>\n",
       "      <th>10</th>\n",
       "      <td>Harmans Water</td>\n",
       "      <td>15.38</td>\n",
       "      <td>14.56</td>\n",
       "      <td>50.7</td>\n",
       "      <td>16.0</td>\n",
       "      <td>1158</td>\n",
       "      <td>819</td>\n",
       "      <td>1850</td>\n",
       "      <td>9,149</td>\n",
       "      <td>11.2</td>\n",
       "      <td>3</td>\n",
       "      <td>23</td>\n",
       "    </tr>\n",
       "    <tr>\n",
       "      <th>11</th>\n",
       "      <td>Little Sandhurst and Wellington</td>\n",
       "      <td>5.13</td>\n",
       "      <td>0.97</td>\n",
       "      <td>37.8</td>\n",
       "      <td>4.9</td>\n",
       "      <td>572</td>\n",
       "      <td>1448</td>\n",
       "      <td>696</td>\n",
       "      <td>6,034</td>\n",
       "      <td>2.5</td>\n",
       "      <td>0</td>\n",
       "      <td>3</td>\n",
       "    </tr>\n",
       "    <tr>\n",
       "      <th>12</th>\n",
       "      <td>Old Bracknell</td>\n",
       "      <td>14.10</td>\n",
       "      <td>9.71</td>\n",
       "      <td>53.3</td>\n",
       "      <td>13.2</td>\n",
       "      <td>753</td>\n",
       "      <td>683</td>\n",
       "      <td>1211</td>\n",
       "      <td>5,994</td>\n",
       "      <td>11.6</td>\n",
       "      <td>0</td>\n",
       "      <td>9</td>\n",
       "    </tr>\n",
       "    <tr>\n",
       "      <th>13</th>\n",
       "      <td>Owlsmoor</td>\n",
       "      <td>3.85</td>\n",
       "      <td>1.94</td>\n",
       "      <td>41.5</td>\n",
       "      <td>7.9</td>\n",
       "      <td>649</td>\n",
       "      <td>658</td>\n",
       "      <td>972</td>\n",
       "      <td>5,189</td>\n",
       "      <td>5.7</td>\n",
       "      <td>0</td>\n",
       "      <td>0</td>\n",
       "    </tr>\n",
       "    <tr>\n",
       "      <th>14</th>\n",
       "      <td>Priestwood and Garth</td>\n",
       "      <td>7.69</td>\n",
       "      <td>7.77</td>\n",
       "      <td>57.8</td>\n",
       "      <td>13.9</td>\n",
       "      <td>984</td>\n",
       "      <td>913</td>\n",
       "      <td>1522</td>\n",
       "      <td>8,038</td>\n",
       "      <td>12.1</td>\n",
       "      <td>24</td>\n",
       "      <td>23</td>\n",
       "    </tr>\n",
       "    <tr>\n",
       "      <th>15</th>\n",
       "      <td>Warfield Harvest Ride</td>\n",
       "      <td>6.41</td>\n",
       "      <td>0.00</td>\n",
       "      <td>29.3</td>\n",
       "      <td>7.9</td>\n",
       "      <td>1337</td>\n",
       "      <td>1086</td>\n",
       "      <td>1306</td>\n",
       "      <td>8,240</td>\n",
       "      <td>2.9</td>\n",
       "      <td>0</td>\n",
       "      <td>2</td>\n",
       "    </tr>\n",
       "    <tr>\n",
       "      <th>16</th>\n",
       "      <td>Wildridings and Central</td>\n",
       "      <td>8.97</td>\n",
       "      <td>5.83</td>\n",
       "      <td>59.9</td>\n",
       "      <td>20.6</td>\n",
       "      <td>557</td>\n",
       "      <td>503</td>\n",
       "      <td>1025</td>\n",
       "      <td>4,849</td>\n",
       "      <td>13.4</td>\n",
       "      <td>0</td>\n",
       "      <td>0</td>\n",
       "    </tr>\n",
       "    <tr>\n",
       "      <th>17</th>\n",
       "      <td>Winkfield and Cranbourne</td>\n",
       "      <td>0.00</td>\n",
       "      <td>0.00</td>\n",
       "      <td>50.1</td>\n",
       "      <td>4.3</td>\n",
       "      <td>496</td>\n",
       "      <td>462</td>\n",
       "      <td>486</td>\n",
       "      <td>4,757</td>\n",
       "      <td>4.6</td>\n",
       "      <td>0</td>\n",
       "      <td>0</td>\n",
       "    </tr>\n",
       "  </tbody>\n",
       "</table>\n",
       "</div>"
      ],
      "text/plain": [
       "                               Ward   NEET  LookedAfterChildren  \\\n",
       "0                             Ascot   3.85                 0.97   \n",
       "1            Binfield with Warfield   2.56                 5.83   \n",
       "2                         Bullbrook   3.85                 7.77   \n",
       "3                 Central Sandhurst   2.56                 1.94   \n",
       "4                      College Town   1.28                 0.00   \n",
       "5                        Crown Wood   2.56                 5.83   \n",
       "6                        Crowthorne   5.13                 2.91   \n",
       "7              Great Hollands North  12.82                 8.74   \n",
       "8              Great Hollands South   1.28                 7.77   \n",
       "9                          Hanworth   2.56                17.48   \n",
       "10                    Harmans Water  15.38                14.56   \n",
       "11  Little Sandhurst and Wellington   5.13                 0.97   \n",
       "12                    Old Bracknell  14.10                 9.71   \n",
       "13                         Owlsmoor   3.85                 1.94   \n",
       "14             Priestwood and Garth   7.69                 7.77   \n",
       "15            Warfield Harvest Ride   6.41                 0.00   \n",
       "16          Wildridings and Central   8.97                 5.83   \n",
       "17         Winkfield and Cranbourne   0.00                 0.00   \n",
       "\n",
       "    DeprivationPercentage  PercentChildrenEnglishAdditionalLanguage  \\\n",
       "0                    41.8                                      14.4   \n",
       "1                    36.5                                       9.5   \n",
       "2                    56.3                                      19.3   \n",
       "3                    43.5                                      11.4   \n",
       "4                    45.2                                      16.1   \n",
       "5                    45.9                                      12.8   \n",
       "6                    44.2                                       6.4   \n",
       "7                    50.8                                      12.4   \n",
       "8                    51.7                                      12.8   \n",
       "9                    51.7                                      11.8   \n",
       "10                   50.7                                      16.0   \n",
       "11                   37.8                                       4.9   \n",
       "12                   53.3                                      13.2   \n",
       "13                   41.5                                       7.9   \n",
       "14                   57.8                                      13.9   \n",
       "15                   29.3                                       7.9   \n",
       "16                   59.9                                      20.6   \n",
       "17                   50.1                                       4.3   \n",
       "\n",
       "    AgeGroup0to9  AgeGroup10to19  AgeGroup20to34 UsualResidentPopulation2015  \\\n",
       "0            663            1038             756                       5,855   \n",
       "1           1175             991            1562                       9,057   \n",
       "2            743             657            1343                       6,359   \n",
       "3            627             830             967                       5,098   \n",
       "4            768             738            1823                       6,296   \n",
       "5           1002             787            2119                       7,848   \n",
       "6            575             651             798                       5,365   \n",
       "7            967             705            1400                       7,700   \n",
       "8            713             655             977                       5,000   \n",
       "9           1033             882            1671                       8,154   \n",
       "10          1158             819            1850                       9,149   \n",
       "11           572            1448             696                       6,034   \n",
       "12           753             683            1211                       5,994   \n",
       "13           649             658             972                       5,189   \n",
       "14           984             913            1522                       8,038   \n",
       "15          1337            1086            1306                       8,240   \n",
       "16           557             503            1025                       4,849   \n",
       "17           496             462             486                       4,757   \n",
       "\n",
       "    FreeSchoolMealsPercentage  SecondarySchoolExclusionRates  \\\n",
       "0                         3.7                              0   \n",
       "1                         4.7                              0   \n",
       "2                         9.4                              0   \n",
       "3                         3.8                              7   \n",
       "4                         4.3                              0   \n",
       "5                         8.9                              0   \n",
       "6                         5.6                              6   \n",
       "7                        13.7                              8   \n",
       "8                         9.8                             13   \n",
       "9                        11.1                             39   \n",
       "10                       11.2                              3   \n",
       "11                        2.5                              0   \n",
       "12                       11.6                              0   \n",
       "13                        5.7                              0   \n",
       "14                       12.1                             24   \n",
       "15                        2.9                              0   \n",
       "16                       13.4                              0   \n",
       "17                        4.6                              0   \n",
       "\n",
       "    PrimarySchoolExclusionRates  \n",
       "0                             0  \n",
       "1                             7  \n",
       "2                             0  \n",
       "3                             0  \n",
       "4                             0  \n",
       "5                             1  \n",
       "6                             0  \n",
       "7                            19  \n",
       "8                            10  \n",
       "9                             3  \n",
       "10                           23  \n",
       "11                            3  \n",
       "12                            9  \n",
       "13                            0  \n",
       "14                           23  \n",
       "15                            2  \n",
       "16                            0  \n",
       "17                            0  "
      ]
     },
     "execution_count": 3,
     "metadata": {},
     "output_type": "execute_result"
    }
   ],
   "source": [
    "df = pd.read_csv(r\"E:\\Python Scripts\\DataAnalysis\\Mapping.csv\")\n",
    "df"
   ]
  },
  {
   "cell_type": "code",
   "execution_count": 16,
   "metadata": {},
   "outputs": [
    {
     "data": {
      "text/plain": [
       "<matplotlib.axes._subplots.AxesSubplot at 0x4855b23240>"
      ]
     },
     "execution_count": 16,
     "metadata": {},
     "output_type": "execute_result"
    },
    {
     "data": {
      "image/png": "[encoded data removed]",
      "text/plain": [
       "<matplotlib.figure.Figure at 0x4855b5bcc0>"
      ]
     },
     "metadata": {},
     "output_type": "display_data"
    }
   ],
   "source": [
    "df.plot.bar(x='Ward',y='NEET',rot=0)"
   ]
  },
  {
   "cell_type": "code",
   "execution_count": 4,
   "metadata": {},
   "outputs": [
    {
     "data": {
      "text/plain": [
       "<matplotlib.axes._subplots.AxesSubplot at 0x94b4d80dd8>"
      ]
     },
     "execution_count": 4,
     "metadata": {},
     "output_type": "execute_result"
    },
    {
     "data": {
      "image/png": "[encoded data removed]",
      "text/plain": [
       "<matplotlib.figure.Figure at 0x94b4d80ac8>"
      ]
     },
     "metadata": {},
     "output_type": "display_data"
    }
   ],
   "source": [
    "df.plot.bar(x='Ward',y='NEET',rot=90)"
   ]
  },
  {
   "cell_type": "code",
   "execution_count": 18,
   "metadata": {},
   "outputs": [
    {
     "data": {
      "text/plain": [
       "<matplotlib.axes._subplots.AxesSubplot at 0x4855ee7518>"
      ]
     },
     "execution_count": 18,
     "metadata": {},
     "output_type": "execute_result"
    },
    {
     "data": {
      "text/plain": [
       "<matplotlib.figure.Figure at 0x4854ed6160>"
      ]
     },
     "metadata": {},
     "output_type": "display_data"
    },
    {
     "data": {
      "image/png": "[encoded data removed]",
      "text/plain": [
       "<matplotlib.figure.Figure at 0x4855b380f0>"
      ]
     },
     "metadata": {},
     "output_type": "display_data"
    }
   ],
   "source": [
    "plt.figure(figsize=(500,350),)\n",
    "df.plot.bar(x='Ward',y=['NEET','LookedAfterChildren','DeprivationPercentage'],rot=90)"
   ]
  },
  {
   "cell_type": "code",
   "execution_count": null,
   "metadata": {
    "collapsed": true
   },
   "outputs": [],
   "source": []
  },
  {
   "cell_type": "code",
   "execution_count": 19,
   "metadata": {},
   "outputs": [
    {
     "data": {
      "text/plain": [
       "<matplotlib.text.Text at 0x4856f31400>"
      ]
     },
     "execution_count": 19,
     "metadata": {},
     "output_type": "execute_result"
    },
    {
     "data": {
      "image/png": "[encoded data removed]",
      "text/plain": [
       "<matplotlib.figure.Figure at 0x4855b49d68>"
      ]
     },
     "metadata": {},
     "output_type": "display_data"
    }
   ],
   "source": [
    "df.plot.line(x='Ward',y=['NEET','LookedAfterChildren'],rot=90)\n",
    "plt.xlabel('Ward')\n",
    "plt.ylabel('Percentage')"
   ]
  },
  {
   "cell_type": "markdown",
   "metadata": {
    "collapsed": true
   },
   "source": [
    "from bokeh.charts import output_notebook,output_file,show,ColumnDataSource\n",
    "from bokeh.resources import INLINE\n",
    "output_notebook(resources=INLINE)"
   ]
  },
  {
   "cell_type": "code",
   "execution_count": 5,
   "metadata": {},
   "outputs": [
    {
     "data": {
      "text/html": [
       "<script>requirejs.config({paths: { 'plotly': ['https://cdn.plot.ly/plotly-latest.min']},});if(!window.Plotly) {{require(['plotly'],function(plotly) {window.Plotly=plotly;});}}</script>"
      ],
      "text/vnd.plotly.v1+html": [
       "<script>requirejs.config({paths: { 'plotly': ['https://cdn.plot.ly/plotly-latest.min']},});if(!window.Plotly) {{require(['plotly'],function(plotly) {window.Plotly=plotly;});}}</script>"
      ]
     },
     "metadata": {},
     "output_type": "display_data"
    }
   ],
   "source": [
    "from plotly.offline import download_plotlyjs, init_notebook_mode,iplot,plot\n",
    "import plotly\n",
    "import plotly.plotly as py\n",
    "import pandas as pd\n",
    "import numpy as np\n",
    "init_notebook_mode(connected=True)\n",
    "# print (cf.__version__)\n",
    "# import plotly\n",
    "# print(plotly.__version__)"
   ]
  },
  {
   "cell_type": "markdown",
   "metadata": {},
   "source": [
    "Running Plotly in offline mode"
   ]
  },
  {
   "cell_type": "code",
   "execution_count": 6,
   "metadata": {
    "collapsed": true
   },
   "outputs": [],
   "source": [
    "import plotly.graph_objs as go"
   ]
  },
  {
   "cell_type": "code",
   "execution_count": 7,
   "metadata": {
    "scrolled": true
   },
   "outputs": [
    {
     "data": {
      "application/vnd.plotly.v1+json": {
       "data": [
        {
         "type": "histogram",
         "x": [
          3.85,
          2.56,
          3.85,
          2.56,
          1.28,
          2.56,
          5.13,
          12.82,
          1.28,
          2.56,
          15.38,
          5.13,
          14.1,
          3.85,
          7.69,
          6.41,
          8.97,
          0
         ]
        }
       ],
       "layout": {
        "title": "Ward NEET Data",
        "xaxis": {
         "title": "NEET"
        },
        "yaxis": {
         "title": "Count"
        }
       }
      },
      "text/html": [
       "<div id=\"619692e5-23c5-49d1-a403-ed744cb9e821\" style=\"height: 525px; width: 100%;\" class=\"plotly-graph-div\"></div><script type=\"text/javascript\">require([\"plotly\"], function(Plotly) { window.PLOTLYENV=window.PLOTLYENV || {};window.PLOTLYENV.BASE_URL=\"https://plot.ly\";Plotly.newPlot(\"619692e5-23c5-49d1-a403-ed744cb9e821\", [{\"x\": [3.85, 2.56, 3.85, 2.56, 1.28, 2.56, 5.13, 12.82, 1.28, 2.56, 15.38, 5.13, 14.1, 3.85, 7.69, 6.41, 8.97, 0.0], \"type\": \"histogram\"}], {\"xaxis\": {\"title\": \"NEET\"}, \"yaxis\": {\"title\": \"Count\"}, \"title\": \"Ward NEET Data\"}, {\"showLink\": true, \"linkText\": \"Export to plot.ly\"})});</script>"
      ],
      "text/vnd.plotly.v1+html": [
       "<div id=\"619692e5-23c5-49d1-a403-ed744cb9e821\" style=\"height: 525px; width: 100%;\" class=\"plotly-graph-div\"></div><script type=\"text/javascript\">require([\"plotly\"], function(Plotly) { window.PLOTLYENV=window.PLOTLYENV || {};window.PLOTLYENV.BASE_URL=\"https://plot.ly\";Plotly.newPlot(\"619692e5-23c5-49d1-a403-ed744cb9e821\", [{\"x\": [3.85, 2.56, 3.85, 2.56, 1.28, 2.56, 5.13, 12.82, 1.28, 2.56, 15.38, 5.13, 14.1, 3.85, 7.69, 6.41, 8.97, 0.0], \"type\": \"histogram\"}], {\"xaxis\": {\"title\": \"NEET\"}, \"yaxis\": {\"title\": \"Count\"}, \"title\": \"Ward NEET Data\"}, {\"showLink\": true, \"linkText\": \"Export to plot.ly\"})});</script>"
      ]
     },
     "metadata": {},
     "output_type": "display_data"
    }
   ],
   "source": [
    "data = [go.Histogram(x = df['NEET'])]\n",
    "layout = go.Layout(\n",
    "title ='Ward NEET Data',\n",
    "xaxis=dict(title='NEET'),\n",
    "yaxis=dict(title='Count'))\n",
    "fig = go.Figure(data=data, layout=layout)\n",
    "#plotly.offline.plot(fig) # Use this for creating a html file\n",
    "plotly.offline.iplot(fig)"
   ]
  },
  {
   "cell_type": "code",
   "execution_count": 8,
   "metadata": {
    "scrolled": true
   },
   "outputs": [
    {
     "data": {
      "application/vnd.plotly.v1+json": {
       "data": [
        {
         "type": "bar",
         "x": [
          "Ascot",
          "Binfield with Warfield",
          "Bullbrook",
          "Central Sandhurst",
          "College Town",
          "Crown Wood",
          "Crowthorne",
          "Great Hollands North",
          "Great Hollands South",
          "Hanworth",
          "Harmans Water",
          "Little Sandhurst and Wellington",
          "Old Bracknell",
          "Owlsmoor",
          "Priestwood and Garth",
          "Warfield Harvest Ride",
          "Wildridings and Central",
          "Winkfield and Cranbourne"
         ],
         "y": [
          0.97,
          5.83,
          7.77,
          1.94,
          0,
          5.83,
          2.91,
          8.74,
          7.77,
          17.48,
          14.56,
          0.97,
          9.71,
          1.94,
          7.77,
          0,
          5.83,
          0
         ]
        }
       ],
       "layout": {
        "title": "Ward Looked After Children Data",
        "xaxis": {
         "title": "Ward"
        },
        "yaxis": {
         "title": "Looked After Children"
        }
       }
      },
      "text/html": [
       "<div id=\"ddffb3e5-83cc-4afb-ab98-7edc884e40aa\" style=\"height: 525px; width: 100%;\" class=\"plotly-graph-div\"></div><script type=\"text/javascript\">require([\"plotly\"], function(Plotly) { window.PLOTLYENV=window.PLOTLYENV || {};window.PLOTLYENV.BASE_URL=\"https://plot.ly\";Plotly.newPlot(\"ddffb3e5-83cc-4afb-ab98-7edc884e40aa\", [{\"y\": [0.97, 5.83, 7.77, 1.94, 0.0, 5.83, 2.91, 8.74, 7.77, 17.48, 14.56, 0.97, 9.71, 1.94, 7.77, 0.0, 5.83, 0.0], \"x\": [\"Ascot\", \"Binfield with Warfield\", \"Bullbrook\", \"Central Sandhurst\", \"College Town\", \"Crown Wood\", \"Crowthorne\", \"Great Hollands North\", \"Great Hollands South\", \"Hanworth\", \"Harmans Water\", \"Little Sandhurst and Wellington\", \"Old Bracknell\", \"Owlsmoor\", \"Priestwood and Garth\", \"Warfield Harvest Ride\", \"Wildridings and Central\", \"Winkfield and Cranbourne\"], \"type\": \"bar\"}], {\"xaxis\": {\"title\": \"Ward\"}, \"yaxis\": {\"title\": \"Looked After Children\"}, \"title\": \"Ward Looked After Children Data\"}, {\"showLink\": true, \"linkText\": \"Export to plot.ly\"})});</script>"
      ],
      "text/vnd.plotly.v1+html": [
       "<div id=\"ddffb3e5-83cc-4afb-ab98-7edc884e40aa\" style=\"height: 525px; width: 100%;\" class=\"plotly-graph-div\"></div><script type=\"text/javascript\">require([\"plotly\"], function(Plotly) { window.PLOTLYENV=window.PLOTLYENV || {};window.PLOTLYENV.BASE_URL=\"https://plot.ly\";Plotly.newPlot(\"ddffb3e5-83cc-4afb-ab98-7edc884e40aa\", [{\"y\": [0.97, 5.83, 7.77, 1.94, 0.0, 5.83, 2.91, 8.74, 7.77, 17.48, 14.56, 0.97, 9.71, 1.94, 7.77, 0.0, 5.83, 0.0], \"x\": [\"Ascot\", \"Binfield with Warfield\", \"Bullbrook\", \"Central Sandhurst\", \"College Town\", \"Crown Wood\", \"Crowthorne\", \"Great Hollands North\", \"Great Hollands South\", \"Hanworth\", \"Harmans Water\", \"Little Sandhurst and Wellington\", \"Old Bracknell\", \"Owlsmoor\", \"Priestwood and Garth\", \"Warfield Harvest Ride\", \"Wildridings and Central\", \"Winkfield and Cranbourne\"], \"type\": \"bar\"}], {\"xaxis\": {\"title\": \"Ward\"}, \"yaxis\": {\"title\": \"Looked After Children\"}, \"title\": \"Ward Looked After Children Data\"}, {\"showLink\": true, \"linkText\": \"Export to plot.ly\"})});</script>"
      ]
     },
     "metadata": {},
     "output_type": "display_data"
    }
   ],
   "source": [
    "data = [go.Bar(x = df['Ward'],\n",
    "              y=df['LookedAfterChildren'])]\n",
    "layout = go.Layout(\n",
    "title ='Ward Looked After Children Data',\n",
    "xaxis=dict(title='Ward'),\n",
    "yaxis=dict(title='Looked After Children'))\n",
    "fig = go.Figure(data=data, layout=layout)\n",
    "#plotly.offline.plot(fig,filename='LookedAfterChildren_Bar.html') # Use this for creating a html file\n",
    "plotly.offline.iplot(fig)"
   ]
  },
  {
   "cell_type": "code",
   "execution_count": 9,
   "metadata": {
    "scrolled": true
   },
   "outputs": [
    {
     "data": {
      "application/vnd.plotly.v1+json": {
       "data": [
        {
         "name": "NEET",
         "type": "bar",
         "x": [
          "Ascot",
          "Binfield with Warfield",
          "Bullbrook",
          "Central Sandhurst",
          "College Town",
          "Crown Wood",
          "Crowthorne",
          "Great Hollands North",
          "Great Hollands South",
          "Hanworth",
          "Harmans Water",
          "Little Sandhurst and Wellington",
          "Old Bracknell",
          "Owlsmoor",
          "Priestwood and Garth",
          "Warfield Harvest Ride",
          "Wildridings and Central",
          "Winkfield and Cranbourne"
         ],
         "y": [
          3.85,
          2.56,
          3.85,
          2.56,
          1.28,
          2.56,
          5.13,
          12.82,
          1.28,
          2.56,
          15.38,
          5.13,
          14.1,
          3.85,
          7.69,
          6.41,
          8.97,
          0
         ]
        },
        {
         "name": "Looked After Children",
         "type": "bar",
         "x": [
          "Ascot",
          "Binfield with Warfield",
          "Bullbrook",
          "Central Sandhurst",
          "College Town",
          "Crown Wood",
          "Crowthorne",
          "Great Hollands North",
          "Great Hollands South",
          "Hanworth",
          "Harmans Water",
          "Little Sandhurst and Wellington",
          "Old Bracknell",
          "Owlsmoor",
          "Priestwood and Garth",
          "Warfield Harvest Ride",
          "Wildridings and Central",
          "Winkfield and Cranbourne"
         ],
         "y": [
          0.97,
          5.83,
          7.77,
          1.94,
          0,
          5.83,
          2.91,
          8.74,
          7.77,
          17.48,
          14.56,
          0.97,
          9.71,
          1.94,
          7.77,
          0,
          5.83,
          0
         ]
        }
       ],
       "layout": {
        "annotations": [
         {
          "align": "left",
          "text": "Courtesy of VSG",
          "x": 0,
          "y": 0
         }
        ],
        "barmode": "group",
        "title": "NEET and Looked After Children",
        "xaxis": {
         "title": "Wards"
        },
        "yaxis": {
         "title": "Percentage"
        }
       }
      },
      "text/html": [
       "<div id=\"7950713d-4097-4321-a3aa-ff28716cece4\" style=\"height: 525px; width: 100%;\" class=\"plotly-graph-div\"></div><script type=\"text/javascript\">require([\"plotly\"], function(Plotly) { window.PLOTLYENV=window.PLOTLYENV || {};window.PLOTLYENV.BASE_URL=\"https://plot.ly\";Plotly.newPlot(\"7950713d-4097-4321-a3aa-ff28716cece4\", [{\"name\": \"NEET\", \"y\": [3.85, 2.56, 3.85, 2.56, 1.28, 2.56, 5.13, 12.82, 1.28, 2.56, 15.38, 5.13, 14.1, 3.85, 7.69, 6.41, 8.97, 0.0], \"x\": [\"Ascot\", \"Binfield with Warfield\", \"Bullbrook\", \"Central Sandhurst\", \"College Town\", \"Crown Wood\", \"Crowthorne\", \"Great Hollands North\", \"Great Hollands South\", \"Hanworth\", \"Harmans Water\", \"Little Sandhurst and Wellington\", \"Old Bracknell\", \"Owlsmoor\", \"Priestwood and Garth\", \"Warfield Harvest Ride\", \"Wildridings and Central\", \"Winkfield and Cranbourne\"], \"type\": \"bar\"}, {\"name\": \"Looked After Children\", \"y\": [0.97, 5.83, 7.77, 1.94, 0.0, 5.83, 2.91, 8.74, 7.77, 17.48, 14.56, 0.97, 9.71, 1.94, 7.77, 0.0, 5.83, 0.0], \"x\": [\"Ascot\", \"Binfield with Warfield\", \"Bullbrook\", \"Central Sandhurst\", \"College Town\", \"Crown Wood\", \"Crowthorne\", \"Great Hollands North\", \"Great Hollands South\", \"Hanworth\", \"Harmans Water\", \"Little Sandhurst and Wellington\", \"Old Bracknell\", \"Owlsmoor\", \"Priestwood and Garth\", \"Warfield Harvest Ride\", \"Wildridings and Central\", \"Winkfield and Cranbourne\"], \"type\": \"bar\"}], {\"xaxis\": {\"title\": \"Wards\"}, \"yaxis\": {\"title\": \"Percentage\"}, \"title\": \"NEET and Looked After Children\", \"annotations\": [{\"text\": \"Courtesy of VSG\", \"y\": 0, \"x\": 0, \"align\": \"left\"}], \"barmode\": \"group\"}, {\"showLink\": true, \"linkText\": \"Export to plot.ly\"})});</script>"
      ],
      "text/vnd.plotly.v1+html": [
       "<div id=\"7950713d-4097-4321-a3aa-ff28716cece4\" style=\"height: 525px; width: 100%;\" class=\"plotly-graph-div\"></div><script type=\"text/javascript\">require([\"plotly\"], function(Plotly) { window.PLOTLYENV=window.PLOTLYENV || {};window.PLOTLYENV.BASE_URL=\"https://plot.ly\";Plotly.newPlot(\"7950713d-4097-4321-a3aa-ff28716cece4\", [{\"name\": \"NEET\", \"y\": [3.85, 2.56, 3.85, 2.56, 1.28, 2.56, 5.13, 12.82, 1.28, 2.56, 15.38, 5.13, 14.1, 3.85, 7.69, 6.41, 8.97, 0.0], \"x\": [\"Ascot\", \"Binfield with Warfield\", \"Bullbrook\", \"Central Sandhurst\", \"College Town\", \"Crown Wood\", \"Crowthorne\", \"Great Hollands North\", \"Great Hollands South\", \"Hanworth\", \"Harmans Water\", \"Little Sandhurst and Wellington\", \"Old Bracknell\", \"Owlsmoor\", \"Priestwood and Garth\", \"Warfield Harvest Ride\", \"Wildridings and Central\", \"Winkfield and Cranbourne\"], \"type\": \"bar\"}, {\"name\": \"Looked After Children\", \"y\": [0.97, 5.83, 7.77, 1.94, 0.0, 5.83, 2.91, 8.74, 7.77, 17.48, 14.56, 0.97, 9.71, 1.94, 7.77, 0.0, 5.83, 0.0], \"x\": [\"Ascot\", \"Binfield with Warfield\", \"Bullbrook\", \"Central Sandhurst\", \"College Town\", \"Crown Wood\", \"Crowthorne\", \"Great Hollands North\", \"Great Hollands South\", \"Hanworth\", \"Harmans Water\", \"Little Sandhurst and Wellington\", \"Old Bracknell\", \"Owlsmoor\", \"Priestwood and Garth\", \"Warfield Harvest Ride\", \"Wildridings and Central\", \"Winkfield and Cranbourne\"], \"type\": \"bar\"}], {\"xaxis\": {\"title\": \"Wards\"}, \"yaxis\": {\"title\": \"Percentage\"}, \"title\": \"NEET and Looked After Children\", \"annotations\": [{\"text\": \"Courtesy of VSG\", \"y\": 0, \"x\": 0, \"align\": \"left\"}], \"barmode\": \"group\"}, {\"showLink\": true, \"linkText\": \"Export to plot.ly\"})});</script>"
      ]
     },
     "metadata": {},
     "output_type": "display_data"
    }
   ],
   "source": [
    "# Grouped Bar charts\n",
    "neet = go.Bar(\n",
    "        x= df['Ward'],\n",
    "        y=df['NEET'],\n",
    "        name='NEET'\n",
    "        )\n",
    "lac = go.Bar(\n",
    "        x=df['Ward'],\n",
    "        y=df['LookedAfterChildren'],\n",
    "        name='Looked After Children'\n",
    "        )\n",
    "data = [neet,lac]\n",
    "layout = go.Layout(title='NEET and Looked After Children',xaxis=dict(title='Wards'), yaxis=dict(title='Percentage'),annotations=[dict(text='Courtesy of VSG',x=0,y=0,align='left')],barmode='group')\n",
    "fig = go.Figure(data=data, layout=layout)\n",
    "#plotly.offline.plot(fig,filename='NEET&LookedAfterChildren_Bar.html') # Use this for creating a html file\n",
    "plotly.offline.iplot(fig)"
   ]
  },
  {
   "cell_type": "code",
   "execution_count": 10,
   "metadata": {
    "scrolled": true
   },
   "outputs": [
    {
     "data": {
      "application/vnd.plotly.v1+json": {
       "data": [
        {
         "name": "Primary School Exclusion Rates",
         "type": "scatter",
         "x": [
          "Ascot",
          "Binfield with Warfield",
          "Bullbrook",
          "Central Sandhurst",
          "College Town",
          "Crown Wood",
          "Crowthorne",
          "Great Hollands North",
          "Great Hollands South",
          "Hanworth",
          "Harmans Water",
          "Little Sandhurst and Wellington",
          "Old Bracknell",
          "Owlsmoor",
          "Priestwood and Garth",
          "Warfield Harvest Ride",
          "Wildridings and Central",
          "Winkfield and Cranbourne"
         ],
         "y": [
          0,
          7,
          0,
          0,
          0,
          1,
          0,
          19,
          10,
          3,
          23,
          3,
          9,
          0,
          23,
          2,
          0,
          0
         ]
        },
        {
         "name": "Secondary School Exclusion Rates",
         "type": "bar",
         "x": [
          "Ascot",
          "Binfield with Warfield",
          "Bullbrook",
          "Central Sandhurst",
          "College Town",
          "Crown Wood",
          "Crowthorne",
          "Great Hollands North",
          "Great Hollands South",
          "Hanworth",
          "Harmans Water",
          "Little Sandhurst and Wellington",
          "Old Bracknell",
          "Owlsmoor",
          "Priestwood and Garth",
          "Warfield Harvest Ride",
          "Wildridings and Central",
          "Winkfield and Cranbourne"
         ],
         "y": [
          0,
          0,
          0,
          7,
          0,
          0,
          6,
          8,
          13,
          39,
          3,
          0,
          0,
          0,
          24,
          0,
          0,
          0
         ]
        }
       ],
       "layout": {
        "title": "School Exclusion Rates",
        "xaxis": {
         "title": "Wards"
        },
        "yaxis": {
         "title": "Rate"
        }
       }
      },
      "text/html": [
       "<div id=\"cd753777-0dfb-4e5c-82aa-64c5e626baf8\" style=\"height: 525px; width: 100%;\" class=\"plotly-graph-div\"></div><script type=\"text/javascript\">require([\"plotly\"], function(Plotly) { window.PLOTLYENV=window.PLOTLYENV || {};window.PLOTLYENV.BASE_URL=\"https://plot.ly\";Plotly.newPlot(\"cd753777-0dfb-4e5c-82aa-64c5e626baf8\", [{\"name\": \"Primary School Exclusion Rates\", \"y\": [0, 7, 0, 0, 0, 1, 0, 19, 10, 3, 23, 3, 9, 0, 23, 2, 0, 0], \"x\": [\"Ascot\", \"Binfield with Warfield\", \"Bullbrook\", \"Central Sandhurst\", \"College Town\", \"Crown Wood\", \"Crowthorne\", \"Great Hollands North\", \"Great Hollands South\", \"Hanworth\", \"Harmans Water\", \"Little Sandhurst and Wellington\", \"Old Bracknell\", \"Owlsmoor\", \"Priestwood and Garth\", \"Warfield Harvest Ride\", \"Wildridings and Central\", \"Winkfield and Cranbourne\"], \"type\": \"scatter\"}, {\"name\": \"Secondary School Exclusion Rates\", \"y\": [0, 0, 0, 7, 0, 0, 6, 8, 13, 39, 3, 0, 0, 0, 24, 0, 0, 0], \"x\": [\"Ascot\", \"Binfield with Warfield\", \"Bullbrook\", \"Central Sandhurst\", \"College Town\", \"Crown Wood\", \"Crowthorne\", \"Great Hollands North\", \"Great Hollands South\", \"Hanworth\", \"Harmans Water\", \"Little Sandhurst and Wellington\", \"Old Bracknell\", \"Owlsmoor\", \"Priestwood and Garth\", \"Warfield Harvest Ride\", \"Wildridings and Central\", \"Winkfield and Cranbourne\"], \"type\": \"bar\"}], {\"xaxis\": {\"title\": \"Wards\"}, \"yaxis\": {\"title\": \"Rate\"}, \"title\": \"School Exclusion Rates\"}, {\"showLink\": true, \"linkText\": \"Export to plot.ly\"})});</script>"
      ],
      "text/vnd.plotly.v1+html": [
       "<div id=\"cd753777-0dfb-4e5c-82aa-64c5e626baf8\" style=\"height: 525px; width: 100%;\" class=\"plotly-graph-div\"></div><script type=\"text/javascript\">require([\"plotly\"], function(Plotly) { window.PLOTLYENV=window.PLOTLYENV || {};window.PLOTLYENV.BASE_URL=\"https://plot.ly\";Plotly.newPlot(\"cd753777-0dfb-4e5c-82aa-64c5e626baf8\", [{\"name\": \"Primary School Exclusion Rates\", \"y\": [0, 7, 0, 0, 0, 1, 0, 19, 10, 3, 23, 3, 9, 0, 23, 2, 0, 0], \"x\": [\"Ascot\", \"Binfield with Warfield\", \"Bullbrook\", \"Central Sandhurst\", \"College Town\", \"Crown Wood\", \"Crowthorne\", \"Great Hollands North\", \"Great Hollands South\", \"Hanworth\", \"Harmans Water\", \"Little Sandhurst and Wellington\", \"Old Bracknell\", \"Owlsmoor\", \"Priestwood and Garth\", \"Warfield Harvest Ride\", \"Wildridings and Central\", \"Winkfield and Cranbourne\"], \"type\": \"scatter\"}, {\"name\": \"Secondary School Exclusion Rates\", \"y\": [0, 0, 0, 7, 0, 0, 6, 8, 13, 39, 3, 0, 0, 0, 24, 0, 0, 0], \"x\": [\"Ascot\", \"Binfield with Warfield\", \"Bullbrook\", \"Central Sandhurst\", \"College Town\", \"Crown Wood\", \"Crowthorne\", \"Great Hollands North\", \"Great Hollands South\", \"Hanworth\", \"Harmans Water\", \"Little Sandhurst and Wellington\", \"Old Bracknell\", \"Owlsmoor\", \"Priestwood and Garth\", \"Warfield Harvest Ride\", \"Wildridings and Central\", \"Winkfield and Cranbourne\"], \"type\": \"bar\"}], {\"xaxis\": {\"title\": \"Wards\"}, \"yaxis\": {\"title\": \"Rate\"}, \"title\": \"School Exclusion Rates\"}, {\"showLink\": true, \"linkText\": \"Export to plot.ly\"})});</script>"
      ]
     },
     "metadata": {},
     "output_type": "display_data"
    },
    {
     "data": {
      "text/plain": [
       "'file://E:\\\\Python Scripts\\\\DataAnalysis\\\\SchoolExclusionRates.html'"
      ]
     },
     "execution_count": 10,
     "metadata": {},
     "output_type": "execute_result"
    }
   ],
   "source": [
    "prim_excl_rate = go.Scatter(\n",
    "                        x=df['Ward'],\n",
    "                        y=df['PrimarySchoolExclusionRates'],\n",
    "                        name='Primary School Exclusion Rates')\n",
    "sec_excl_rate = go.Bar(\n",
    "                x=df['Ward'],\n",
    "                y=df['SecondarySchoolExclusionRates'],\n",
    "                name='Secondary School Exclusion Rates'\n",
    "                )\n",
    "data=[prim_excl_rate,sec_excl_rate]\n",
    "layout=(go.Layout(title='School Exclusion Rates', xaxis=dict(title='Wards'),yaxis=dict(title='Rate')))\n",
    "fig = go.Figure(data=data, layout=layout)\n",
    "plotly.offline.iplot(fig) # Plot inside Jupyter notebook\n",
    "plotly.offline.plot(fig,filename='SchoolExclusionRates.html')"
   ]
  },
  {
   "cell_type": "code",
   "execution_count": 16,
   "metadata": {},
   "outputs": [
    {
     "data": {
      "text/html": [
       "<div>\n",
       "<style>\n",
       "    .dataframe thead tr:only-child th {\n",
       "        text-align: right;\n",
       "    }\n",
       "\n",
       "    .dataframe thead th {\n",
       "        text-align: left;\n",
       "    }\n",
       "\n",
       "    .dataframe tbody tr th {\n",
       "        vertical-align: top;\n",
       "    }\n",
       "</style>\n",
       "<table border=\"1\" class=\"dataframe\">\n",
       "  <thead>\n",
       "    <tr style=\"text-align: right;\">\n",
       "      <th></th>\n",
       "      <th>Ward</th>\n",
       "      <th>NEET</th>\n",
       "      <th>LookedAfterChildren</th>\n",
       "      <th>DeprivationPercentage</th>\n",
       "      <th>PercentChildrenEnglishAdditionalLanguage</th>\n",
       "      <th>AgeGroup0to9</th>\n",
       "      <th>AgeGroup10to19</th>\n",
       "      <th>AgeGroup20to34</th>\n",
       "      <th>UsualResidentPopulation2015</th>\n",
       "      <th>FreeSchoolMealsPercentage</th>\n",
       "      <th>SecondarySchoolExclusionRates</th>\n",
       "      <th>PrimarySchoolExclusionRates</th>\n",
       "    </tr>\n",
       "  </thead>\n",
       "  <tbody>\n",
       "    <tr>\n",
       "      <th>0</th>\n",
       "      <td>Ascot</td>\n",
       "      <td>3.85</td>\n",
       "      <td>0.97</td>\n",
       "      <td>41.8</td>\n",
       "      <td>14.4</td>\n",
       "      <td>663</td>\n",
       "      <td>1038</td>\n",
       "      <td>756</td>\n",
       "      <td>5,855</td>\n",
       "      <td>3.7</td>\n",
       "      <td>0</td>\n",
       "      <td>0</td>\n",
       "    </tr>\n",
       "    <tr>\n",
       "      <th>1</th>\n",
       "      <td>Binfield with Warfield</td>\n",
       "      <td>2.56</td>\n",
       "      <td>5.83</td>\n",
       "      <td>36.5</td>\n",
       "      <td>9.5</td>\n",
       "      <td>1175</td>\n",
       "      <td>991</td>\n",
       "      <td>1562</td>\n",
       "      <td>9,057</td>\n",
       "      <td>4.7</td>\n",
       "      <td>0</td>\n",
       "      <td>7</td>\n",
       "    </tr>\n",
       "    <tr>\n",
       "      <th>2</th>\n",
       "      <td>Bullbrook</td>\n",
       "      <td>3.85</td>\n",
       "      <td>7.77</td>\n",
       "      <td>56.3</td>\n",
       "      <td>19.3</td>\n",
       "      <td>743</td>\n",
       "      <td>657</td>\n",
       "      <td>1343</td>\n",
       "      <td>6,359</td>\n",
       "      <td>9.4</td>\n",
       "      <td>0</td>\n",
       "      <td>0</td>\n",
       "    </tr>\n",
       "    <tr>\n",
       "      <th>3</th>\n",
       "      <td>Central Sandhurst</td>\n",
       "      <td>2.56</td>\n",
       "      <td>1.94</td>\n",
       "      <td>43.5</td>\n",
       "      <td>11.4</td>\n",
       "      <td>627</td>\n",
       "      <td>830</td>\n",
       "      <td>967</td>\n",
       "      <td>5,098</td>\n",
       "      <td>3.8</td>\n",
       "      <td>7</td>\n",
       "      <td>0</td>\n",
       "    </tr>\n",
       "    <tr>\n",
       "      <th>4</th>\n",
       "      <td>College Town</td>\n",
       "      <td>1.28</td>\n",
       "      <td>0.00</td>\n",
       "      <td>45.2</td>\n",
       "      <td>16.1</td>\n",
       "      <td>768</td>\n",
       "      <td>738</td>\n",
       "      <td>1823</td>\n",
       "      <td>6,296</td>\n",
       "      <td>4.3</td>\n",
       "      <td>0</td>\n",
       "      <td>0</td>\n",
       "    </tr>\n",
       "  </tbody>\n",
       "</table>\n",
       "</div>"
      ],
      "text/plain": [
       "                     Ward  NEET  LookedAfterChildren  DeprivationPercentage  \\\n",
       "0                   Ascot  3.85                 0.97                   41.8   \n",
       "1  Binfield with Warfield  2.56                 5.83                   36.5   \n",
       "2               Bullbrook  3.85                 7.77                   56.3   \n",
       "3       Central Sandhurst  2.56                 1.94                   43.5   \n",
       "4            College Town  1.28                 0.00                   45.2   \n",
       "\n",
       "   PercentChildrenEnglishAdditionalLanguage  AgeGroup0to9  AgeGroup10to19  \\\n",
       "0                                      14.4           663            1038   \n",
       "1                                       9.5          1175             991   \n",
       "2                                      19.3           743             657   \n",
       "3                                      11.4           627             830   \n",
       "4                                      16.1           768             738   \n",
       "\n",
       "   AgeGroup20to34 UsualResidentPopulation2015  FreeSchoolMealsPercentage  \\\n",
       "0             756                       5,855                        3.7   \n",
       "1            1562                       9,057                        4.7   \n",
       "2            1343                       6,359                        9.4   \n",
       "3             967                       5,098                        3.8   \n",
       "4            1823                       6,296                        4.3   \n",
       "\n",
       "   SecondarySchoolExclusionRates  PrimarySchoolExclusionRates  \n",
       "0                              0                            0  \n",
       "1                              0                            7  \n",
       "2                              0                            0  \n",
       "3                              7                            0  \n",
       "4                              0                            0  "
      ]
     },
     "execution_count": 16,
     "metadata": {},
     "output_type": "execute_result"
    }
   ],
   "source": [
    "df.head()"
   ]
  },
  {
   "cell_type": "code",
   "execution_count": 11,
   "metadata": {},
   "outputs": [
    {
     "data": {
      "text/html": [
       "<div>\n",
       "<style>\n",
       "    .dataframe thead tr:only-child th {\n",
       "        text-align: right;\n",
       "    }\n",
       "\n",
       "    .dataframe thead th {\n",
       "        text-align: left;\n",
       "    }\n",
       "\n",
       "    .dataframe tbody tr th {\n",
       "        vertical-align: top;\n",
       "    }\n",
       "</style>\n",
       "<table border=\"1\" class=\"dataframe\">\n",
       "  <thead>\n",
       "    <tr style=\"text-align: right;\">\n",
       "      <th></th>\n",
       "      <th>Ward</th>\n",
       "      <th>AgeGroup0to9</th>\n",
       "      <th>AgeGroup10to19</th>\n",
       "      <th>AgeGroup20to34</th>\n",
       "      <th>UsualResidentPopulation2015</th>\n",
       "    </tr>\n",
       "  </thead>\n",
       "  <tbody>\n",
       "    <tr>\n",
       "      <th>0</th>\n",
       "      <td>Ascot</td>\n",
       "      <td>663</td>\n",
       "      <td>1038</td>\n",
       "      <td>756</td>\n",
       "      <td>5,855</td>\n",
       "    </tr>\n",
       "    <tr>\n",
       "      <th>1</th>\n",
       "      <td>Binfield with Warfield</td>\n",
       "      <td>1175</td>\n",
       "      <td>991</td>\n",
       "      <td>1562</td>\n",
       "      <td>9,057</td>\n",
       "    </tr>\n",
       "    <tr>\n",
       "      <th>2</th>\n",
       "      <td>Bullbrook</td>\n",
       "      <td>743</td>\n",
       "      <td>657</td>\n",
       "      <td>1343</td>\n",
       "      <td>6,359</td>\n",
       "    </tr>\n",
       "    <tr>\n",
       "      <th>3</th>\n",
       "      <td>Central Sandhurst</td>\n",
       "      <td>627</td>\n",
       "      <td>830</td>\n",
       "      <td>967</td>\n",
       "      <td>5,098</td>\n",
       "    </tr>\n",
       "    <tr>\n",
       "      <th>4</th>\n",
       "      <td>College Town</td>\n",
       "      <td>768</td>\n",
       "      <td>738</td>\n",
       "      <td>1823</td>\n",
       "      <td>6,296</td>\n",
       "    </tr>\n",
       "  </tbody>\n",
       "</table>\n",
       "</div>"
      ],
      "text/plain": [
       "                     Ward  AgeGroup0to9  AgeGroup10to19  AgeGroup20to34  \\\n",
       "0                   Ascot           663            1038             756   \n",
       "1  Binfield with Warfield          1175             991            1562   \n",
       "2               Bullbrook           743             657            1343   \n",
       "3       Central Sandhurst           627             830             967   \n",
       "4            College Town           768             738            1823   \n",
       "\n",
       "  UsualResidentPopulation2015  \n",
       "0                       5,855  \n",
       "1                       9,057  \n",
       "2                       6,359  \n",
       "3                       5,098  \n",
       "4                       6,296  "
      ]
     },
     "execution_count": 11,
     "metadata": {},
     "output_type": "execute_result"
    }
   ],
   "source": [
    "pop = df.filter(['Ward','AgeGroup0to9','AgeGroup10to19','AgeGroup20to34','UsualResidentPopulation2015'],axis=1)\n",
    "pop.head()"
   ]
  },
  {
   "cell_type": "code",
   "execution_count": 13,
   "metadata": {},
   "outputs": [
    {
     "data": {
      "text/plain": [
       "'file://E:\\\\Python Scripts\\\\DataAnalysis\\\\population1.html'"
      ]
     },
     "execution_count": 13,
     "metadata": {},
     "output_type": "execute_result"
    }
   ],
   "source": [
    "zeroTo0 = go.Bar(\n",
    "                x=df['Ward'],\n",
    "                y=df['AgeGroup0to9'],\n",
    "                name='0 to 9 years'\n",
    "            \n",
    "        )\n",
    "tenTo19 = go.Bar(\n",
    "                x=df['Ward'],\n",
    "                y=df['AgeGroup10to19'],\n",
    "                name='10 to 19 years'\n",
    "        )\n",
    "twentyTo34=go.Bar(\n",
    "                x=df['Ward'],\n",
    "                y=df['AgeGroup20to34'],\n",
    "                name='20 to 34 years'\n",
    "        )\n",
    "resident2015=go.Scatter(\n",
    "                x=df['Ward'],\n",
    "                y=df['UsualResidentPopulation2015'],\n",
    "                name='Usual Resident Population (2015)'\n",
    "        )\n",
    "data = [resident2015, zeroTo0,tenTo19,twentyTo34]\n",
    "layout = go.Layout(title='Population',xaxis=dict(title='Wards'),yaxis=dict(title='Population'),barmode='group',showlegend=True)\n",
    "fig = go.Figure(data=data, layout=layout)\n",
    "#plotly.offline.iplot(fig)\n",
    "plotly.offline.plot(fig,filename='population1.html')"
   ]
  },
  {
   "cell_type": "code",
   "execution_count": null,
   "metadata": {
    "collapsed": true
   },
   "outputs": [],
   "source": []
  }
 ],
 "metadata": {
  "kernelspec": {
   "display_name": "Python 3",
   "language": "python",
   "name": "python3"
  },
  "language_info": {
   "codemirror_mode": {
    "name": "ipython",
    "version": 3
   },
   "file_extension": ".py",
   "mimetype": "text/x-python",
   "name": "python",
   "nbconvert_exporter": "python",
   "pygments_lexer": "ipython3",
   "version": "3.5.3"
  }
 },
 "nbformat": 4,
 "nbformat_minor": 2
}
